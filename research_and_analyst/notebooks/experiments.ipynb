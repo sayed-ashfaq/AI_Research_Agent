{
 "cells": [
  {
   "metadata": {
    "ExecuteTime": {
     "end_time": "2025-10-16T09:48:45.685833Z",
     "start_time": "2025-10-16T09:48:45.678805Z"
    }
   },
   "cell_type": "code",
   "source": "print(\"Hello\")",
   "id": "ca261754e0a3c1b0",
   "outputs": [
    {
     "name": "stdout",
     "output_type": "stream",
     "text": [
      "Hello\n"
     ]
    }
   ],
   "execution_count": 1
  },
  {
   "metadata": {
    "ExecuteTime": {
     "end_time": "2025-10-16T09:48:50.457010Z",
     "start_time": "2025-10-16T09:48:48.324815Z"
    }
   },
   "cell_type": "code",
   "source": "from utils.model_loader import ModelLoader",
   "id": "a5bb7b5e64432521",
   "outputs": [],
   "execution_count": 2
  },
  {
   "metadata": {
    "ExecuteTime": {
     "end_time": "2025-10-16T09:49:06.021482Z",
     "start_time": "2025-10-16T09:49:04.524846Z"
    }
   },
   "cell_type": "code",
   "source": [
    "loader = ModelLoader()\n",
    "llm= loader.load_llm()"
   ],
   "id": "f69119060eb6da7e",
   "outputs": [
    {
     "name": "stderr",
     "output_type": "stream",
     "text": [
      "{\"timestamp\": \"2025-10-16T09:49:04.528961Z\", \"level\": \"info\", \"event\": \"OPENAI_API_KEY loaded from environment\"}\n",
      "{\"timestamp\": \"2025-10-16T09:49:04.528961Z\", \"level\": \"info\", \"event\": \"GOOGLE_API_KEY loaded from environment\"}\n",
      "{\"timestamp\": \"2025-10-16T09:49:04.528961Z\", \"level\": \"info\", \"event\": \"GROQ_API_KEY loaded from environment\"}\n",
      "{\"timestamp\": \"2025-10-16T09:49:04.535320Z\", \"level\": \"warning\", \"event\": \"ASTRA_DB_API_ENDPOINT is missing from environment\"}\n",
      "{\"timestamp\": \"2025-10-16T09:49:04.535320Z\", \"level\": \"warning\", \"event\": \"ASTRA_DB_APPLICATION_TOKEN is missing from environment\"}\n",
      "{\"timestamp\": \"2025-10-16T09:49:04.535320Z\", \"level\": \"warning\", \"event\": \"ASTRA_DB_KEYSPACE is missing from environment\"}\n",
      "{\"config_keys\": [\"astra_db\", \"embedding_model\", \"retriever\", \"llm\"], \"timestamp\": \"2025-10-16T09:49:04.543835Z\", \"level\": \"info\", \"event\": \"YAML config loaded\"}\n",
      "{\"provider\": \"openai\", \"model\": \"gpt-4o\", \"timestamp\": \"2025-10-16T09:49:04.543835Z\", \"level\": \"info\", \"event\": \"Loading LLM\"}\n"
     ]
    }
   ],
   "execution_count": 3
  },
  {
   "metadata": {
    "ExecuteTime": {
     "end_time": "2025-10-16T09:49:42.208672Z",
     "start_time": "2025-10-16T09:49:41.039295Z"
    }
   },
   "cell_type": "code",
   "source": "llm.invoke(\"HI\").content",
   "id": "dfdac0807ef05c34",
   "outputs": [
    {
     "name": "stderr",
     "output_type": "stream",
     "text": [
      "HTTP Request: POST https://api.openai.com/v1/chat/completions \"HTTP/1.1 200 OK\"\n"
     ]
    },
    {
     "data": {
      "text/plain": [
       "'Hello! How can I assist you today?'"
      ]
     },
     "execution_count": 5,
     "metadata": {},
     "output_type": "execute_result"
    }
   ],
   "execution_count": 5
  },
  {
   "metadata": {},
   "cell_type": "code",
   "outputs": [],
   "execution_count": null,
   "source": "",
   "id": "e13d8204e1c13e90"
  }
 ],
 "metadata": {},
 "nbformat": 4,
 "nbformat_minor": 5
}
