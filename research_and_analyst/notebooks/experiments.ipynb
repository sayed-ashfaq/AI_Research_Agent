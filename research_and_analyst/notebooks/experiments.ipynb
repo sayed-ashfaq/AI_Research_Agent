{
 "cells": [
  {
   "cell_type": "code",
   "id": "ca261754e0a3c1b0",
   "metadata": {
    "ExecuteTime": {
     "end_time": "2025-10-22T08:10:20.250566Z",
     "start_time": "2025-10-22T08:10:20.240840Z"
    }
   },
   "source": [
    "print(\"Hello\")"
   ],
   "outputs": [
    {
     "name": "stdout",
     "output_type": "stream",
     "text": [
      "Hello\n"
     ]
    }
   ],
   "execution_count": 1
  },
  {
   "cell_type": "code",
   "id": "4297de59",
   "metadata": {
    "ExecuteTime": {
     "end_time": "2025-10-16T10:46:09.532156Z",
     "start_time": "2025-10-16T10:46:09.522304Z"
    }
   },
   "source": [
    "import os\n",
    "os.getcwd()"
   ],
   "outputs": [
    {
     "data": {
      "text/plain": [
       "'S:\\\\Generative AI\\\\AI_Research_Agent\\\\research_and_analyst\\\\notebooks'"
      ]
     },
     "execution_count": 2,
     "metadata": {},
     "output_type": "execute_result"
    }
   ],
   "execution_count": 2
  },
  {
   "cell_type": "code",
   "id": "0fdffa29",
   "metadata": {
    "ExecuteTime": {
     "end_time": "2025-10-16T10:46:11.927107Z",
     "start_time": "2025-10-16T10:46:09.642196Z"
    }
   },
   "source": [
    "from research_and_analyst.utils.model_loader import ModelLoader"
   ],
   "outputs": [],
   "execution_count": 3
  },
  {
   "cell_type": "code",
   "id": "f69119060eb6da7e",
   "metadata": {
    "ExecuteTime": {
     "end_time": "2025-10-16T10:46:14.985124Z",
     "start_time": "2025-10-16T10:46:14.069291Z"
    }
   },
   "source": [
    "loader = ModelLoader()\n",
    "llm= loader.load_llm()"
   ],
   "outputs": [
    {
     "name": "stderr",
     "output_type": "stream",
     "text": [
      "{\"timestamp\": \"2025-10-16T10:46:14.072198Z\", \"level\": \"info\", \"event\": \"OPENAI_API_KEY loaded from environment\"}\n",
      "{\"timestamp\": \"2025-10-16T10:46:14.075903Z\", \"level\": \"info\", \"event\": \"GOOGLE_API_KEY loaded from environment\"}\n",
      "{\"timestamp\": \"2025-10-16T10:46:14.075903Z\", \"level\": \"info\", \"event\": \"GROQ_API_KEY loaded from environment\"}\n",
      "{\"timestamp\": \"2025-10-16T10:46:14.075903Z\", \"level\": \"warning\", \"event\": \"ASTRA_DB_API_ENDPOINT is missing from environment\"}\n",
      "{\"timestamp\": \"2025-10-16T10:46:14.075903Z\", \"level\": \"warning\", \"event\": \"ASTRA_DB_APPLICATION_TOKEN is missing from environment\"}\n",
      "{\"timestamp\": \"2025-10-16T10:46:14.083242Z\", \"level\": \"warning\", \"event\": \"ASTRA_DB_KEYSPACE is missing from environment\"}\n",
      "{\"config_keys\": [\"astra_db\", \"embedding_model\", \"retriever\", \"llm\"], \"timestamp\": \"2025-10-16T10:46:14.084430Z\", \"level\": \"info\", \"event\": \"YAML config loaded\"}\n",
      "{\"provider\": \"openai\", \"model\": \"gpt-4o\", \"timestamp\": \"2025-10-16T10:46:14.089111Z\", \"level\": \"info\", \"event\": \"Loading LLM\"}\n"
     ]
    }
   ],
   "execution_count": 4
  },
  {
   "cell_type": "code",
   "execution_count": 8,
   "id": "dfdac0807ef05c34",
   "metadata": {
    "ExecuteTime": {
     "end_time": "2025-10-16T10:40:58.195709Z",
     "start_time": "2025-10-16T10:40:56.513330Z"
    }
   },
   "outputs": [
    {
     "name": "stderr",
     "output_type": "stream",
     "text": [
      "HTTP Request: POST https://api.openai.com/v1/chat/completions \"HTTP/1.1 200 OK\"\n"
     ]
    },
    {
     "data": {
      "text/plain": [
       "'Hello! How can I assist you today?'"
      ]
     },
     "execution_count": 8,
     "metadata": {},
     "output_type": "execute_result"
    }
   ],
   "source": [
    "llm.invoke(\"HI\").content"
   ]
  },
  {
   "cell_type": "code",
   "id": "e13d8204e1c13e90",
   "metadata": {
    "ExecuteTime": {
     "end_time": "2025-10-16T10:48:13.039027Z",
     "start_time": "2025-10-16T10:48:13.032422Z"
    }
   },
   "source": [
    "from typing import List, Tuple\n",
    "from typing_extensions import TypedDict\n",
    "from pydantic import BaseModel, Field"
   ],
   "outputs": [],
   "execution_count": 5
  },
  {
   "metadata": {},
   "cell_type": "code",
   "outputs": [],
   "execution_count": null,
   "source": [
    "def Analyst(state):\n",
    "    name: str= Field(description=\"Name of Analyst\")\n",
    "    role: str= Field(description=\"Role of Analyst\")\n",
    "    affiliation: str= Field(description=\"Affiliation of Analyst\")\n",
    "    description: str= Field(description=\"Description of Analyst\")\n",
    "\n",
    "    @property\n",
    "    def persona(self)->str:\n",
    "        return f\"Name: {self.name}\"\n"
   ],
   "id": "a4a7c3353c5ff714"
  },
  {
   "metadata": {},
   "cell_type": "markdown",
   "source": "## Resume for AI engineer job - Data Analyst - Email: [SunnySavity](engsunny3365@gmail.com)",
   "id": "d0d8dd8e66021bd7"
  },
  {
   "metadata": {},
   "cell_type": "code",
   "outputs": [],
   "execution_count": null,
   "source": "",
   "id": "ba0e520d1fc4dc88"
  }
 ],
 "metadata": {
  "kernelspec": {
   "display_name": "AI_Research_Agent",
   "language": "python",
   "name": "python3"
  },
  "language_info": {
   "codemirror_mode": {
    "name": "ipython",
    "version": 3
   },
   "file_extension": ".py",
   "mimetype": "text/x-python",
   "name": "python",
   "nbconvert_exporter": "python",
   "pygments_lexer": "ipython3",
   "version": "3.12.11"
  }
 },
 "nbformat": 4,
 "nbformat_minor": 5
}
