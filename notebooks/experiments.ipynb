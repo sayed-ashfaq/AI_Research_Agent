{
 "cells": [
  {
   "metadata": {
    "jupyter": {
     "is_executing": true
    }
   },
   "cell_type": "code",
   "source": "print(\"Heelo\")",
   "id": "e2221c47220fa5c",
   "outputs": [],
   "execution_count": null
  },
  {
   "metadata": {},
   "cell_type": "code",
   "outputs": [],
   "execution_count": null,
   "source": "",
   "id": "acaf2e503fe34664"
  }
 ],
 "metadata": {},
 "nbformat": 4,
 "nbformat_minor": 5
}
