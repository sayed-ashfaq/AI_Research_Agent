{
 "cells": [
  {
   "metadata": {
    "ExecuteTime": {
     "end_time": "2025-10-16T07:31:00.393469Z",
     "start_time": "2025-10-16T07:31:00.383113Z"
    }
   },
   "cell_type": "code",
   "source": "print(\"Heelo\")",
   "id": "e2221c47220fa5c",
   "outputs": [
    {
     "name": "stdout",
     "output_type": "stream",
     "text": [
      "Heelo\n"
     ]
    }
   ],
   "execution_count": 1
  },
  {
   "metadata": {},
   "cell_type": "code",
   "outputs": [],
   "execution_count": null,
   "source": "",
   "id": "acaf2e503fe34664"
  }
 ],
 "metadata": {},
 "nbformat": 4,
 "nbformat_minor": 5
}
