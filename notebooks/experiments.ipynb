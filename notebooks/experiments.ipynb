{
 "cells": [
  {
   "metadata": {
    "ExecuteTime": {
     "end_time": "2025-10-16T08:59:57.608176Z",
     "start_time": "2025-10-16T08:59:57.599944Z"
    }
   },
   "cell_type": "code",
   "source": "print(\"Heelo\")",
   "id": "e2221c47220fa5c",
   "outputs": [
    {
     "name": "stdout",
     "output_type": "stream",
     "text": [
      "Heelo\n"
     ]
    }
   ],
   "execution_count": 1
  },
  {
   "metadata": {},
   "cell_type": "code",
   "outputs": [],
   "execution_count": null,
   "source": "",
   "id": "acaf2e503fe34664"
  }
 ],
 "metadata": {},
 "nbformat": 4,
 "nbformat_minor": 5
}
